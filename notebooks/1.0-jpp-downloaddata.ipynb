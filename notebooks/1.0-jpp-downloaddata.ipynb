{
 "cells": [
  {
   "cell_type": "markdown",
   "id": "890b43d2",
   "metadata": {},
   "source": [
    "# Download the data from Kaggle"
   ]
  },
  {
   "cell_type": "markdown",
   "id": "48d1a0fa",
   "metadata": {},
   "source": [
    "## Import the necessary packages and setting things up"
   ]
  },
  {
   "cell_type": "code",
   "execution_count": 1,
   "id": "46c753e0",
   "metadata": {},
   "outputs": [],
   "source": [
    "import sys, os\n",
    "REPO_ROOT_DIR = \"../\"\n",
    "sys.path.append(os.path.dirname(REPO_ROOT_DIR))\n",
    "from src.data.get_data import get_data"
   ]
  },
  {
   "cell_type": "markdown",
   "id": "8e06467c",
   "metadata": {},
   "source": [
    "## Setting up the path to store the data"
   ]
  },
  {
   "cell_type": "code",
   "execution_count": null,
   "id": "3c016a42",
   "metadata": {},
   "outputs": [],
   "source": [
    "data_path = REPO_ROOT_DIR + 'data/raw'"
   ]
  }
 ],
 "metadata": {
  "kernelspec": {
   "display_name": "Python 3",
   "language": "python",
   "name": "python3"
  },
  "language_info": {
   "codemirror_mode": {
    "name": "ipython",
    "version": 3
   },
   "file_extension": ".py",
   "mimetype": "text/x-python",
   "name": "python",
   "nbconvert_exporter": "python",
   "pygments_lexer": "ipython3",
   "version": "3.9.12"
  }
 },
 "nbformat": 4,
 "nbformat_minor": 5
}
