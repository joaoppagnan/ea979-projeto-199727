{
 "cells": [
  {
   "cell_type": "markdown",
   "id": "3506a2da",
   "metadata": {},
   "source": [
    "# StyleGAN Demonstration"
   ]
  },
  {
   "cell_type": "markdown",
   "id": "58b0ae1e",
   "metadata": {},
   "source": [
    "## Importing the necessary packages and setting things up"
   ]
  },
  {
   "cell_type": "code",
   "execution_count": 33,
   "id": "541446c3",
   "metadata": {},
   "outputs": [
    {
     "ename": "ModuleNotFoundError",
     "evalue": "No module named 'matplotlib'",
     "output_type": "error",
     "traceback": [
      "\u001b[0;31m---------------------------------------------------------------------------\u001b[0m",
      "\u001b[0;31mModuleNotFoundError\u001b[0m                       Traceback (most recent call last)",
      "Input \u001b[0;32mIn [33]\u001b[0m, in \u001b[0;36m<module>\u001b[0;34m\u001b[0m\n\u001b[1;32m      4\u001b[0m \u001b[38;5;28;01mimport\u001b[39;00m \u001b[38;5;21;01mtorch\u001b[39;00m\n\u001b[1;32m      5\u001b[0m \u001b[38;5;28;01mimport\u001b[39;00m \u001b[38;5;21;01mtorch\u001b[39;00m\u001b[38;5;21;01m.\u001b[39;00m\u001b[38;5;21;01mnn\u001b[39;00m \u001b[38;5;28;01mas\u001b[39;00m \u001b[38;5;21;01mnn\u001b[39;00m\n\u001b[0;32m----> 6\u001b[0m \u001b[38;5;28;01mimport\u001b[39;00m \u001b[38;5;21;01mmatplotlib\u001b[39;00m\u001b[38;5;21;01m.\u001b[39;00m\u001b[38;5;21;01mpyplot\u001b[39;00m \u001b[38;5;28;01mas\u001b[39;00m \u001b[38;5;21;01mplt\u001b[39;00m\n\u001b[1;32m      7\u001b[0m \u001b[38;5;28;01mimport\u001b[39;00m \u001b[38;5;21;01mtorchvision\u001b[39;00m\n",
      "\u001b[0;31mModuleNotFoundError\u001b[0m: No module named 'matplotlib'"
     ]
    }
   ],
   "source": [
    "import numpy as np\n",
    "import os,sys\n",
    "from collections import OrderedDict\n",
    "import torch\n",
    "import torch.nn as nn\n",
    "import matplotlib.pyplot as plt\n",
    "import torchvision"
   ]
  },
  {
   "cell_type": "code",
   "execution_count": 23,
   "id": "7175cf8c",
   "metadata": {},
   "outputs": [],
   "source": [
    "REPO_ROOT_DIR = '../'\n",
    "sys.path.append(os.path.dirname(REPO_ROOT_DIR))\n",
    "from src.generator.generator_mapping import GeneratorMapping\n",
    "from src.generator.generator_synthesis import GeneratorSynthesis"
   ]
  },
  {
   "cell_type": "markdown",
   "id": "aa208213",
   "metadata": {},
   "source": [
    "### Setting up Pytorch to use the GPU"
   ]
  },
  {
   "cell_type": "code",
   "execution_count": 24,
   "id": "1d4d431e",
   "metadata": {},
   "outputs": [],
   "source": [
    "device = 'cuda:0' if torch.cuda.is_available() else 'cpu'"
   ]
  },
  {
   "cell_type": "markdown",
   "id": "59ef8254",
   "metadata": {},
   "source": [
    "## Defining the model"
   ]
  },
  {
   "cell_type": "code",
   "execution_count": 26,
   "id": "c69c94fd",
   "metadata": {},
   "outputs": [],
   "source": [
    "stylegan = nn.Sequential(OrderedDict([\n",
    "    ('g_mapping', GeneratorMapping()),\n",
    "    ('g_synthesis', GeneratorSynthesis())    \n",
    "]))"
   ]
  },
  {
   "cell_type": "markdown",
   "id": "8266592f",
   "metadata": {},
   "source": [
    "### Loading the pretrained model"
   ]
  },
  {
   "cell_type": "code",
   "execution_count": 29,
   "id": "77448f0d",
   "metadata": {},
   "outputs": [],
   "source": [
    "model_filename = 'karras2019stylegan-ffhq-1024x1024.for_g_all.pt'\n",
    "model_path = os.path.join(REPO_ROOT_DIR, 'models', model_filename)"
   ]
  },
  {
   "cell_type": "code",
   "execution_count": 31,
   "id": "2eeb105b",
   "metadata": {},
   "outputs": [
    {
     "data": {
      "text/plain": [
       "<All keys matched successfully>"
      ]
     },
     "execution_count": 31,
     "metadata": {},
     "output_type": "execute_result"
    }
   ],
   "source": [
    "stylegan.load_state_dict(torch.load(model_path))"
   ]
  },
  {
   "cell_type": "markdown",
   "id": "02c56950",
   "metadata": {},
   "source": [
    "## Input definition"
   ]
  },
  {
   "cell_type": "code",
   "execution_count": 32,
   "id": "6e2bcf1a",
   "metadata": {},
   "outputs": [],
   "source": [
    "n_rows = 3\n",
    "n_cols = 3\n",
    "n_samples = n_rows*n_cols"
   ]
  },
  {
   "cell_type": "markdown",
   "id": "9231112c",
   "metadata": {},
   "source": [
    "### Latent space"
   ]
  },
  {
   "cell_type": "code",
   "execution_count": 35,
   "id": "d30d9469",
   "metadata": {},
   "outputs": [],
   "source": [
    "latent_space = torch.randn(n_samples, 512, device=device)"
   ]
  },
  {
   "cell_type": "code",
   "execution_count": null,
   "id": "0ee71180",
   "metadata": {},
   "outputs": [],
   "source": []
  }
 ],
 "metadata": {
  "kernelspec": {
   "display_name": "Python 3",
   "language": "python",
   "name": "python3"
  },
  "language_info": {
   "codemirror_mode": {
    "name": "ipython",
    "version": 3
   },
   "file_extension": ".py",
   "mimetype": "text/x-python",
   "name": "python",
   "nbconvert_exporter": "python",
   "pygments_lexer": "ipython3",
   "version": "3.9.12"
  }
 },
 "nbformat": 4,
 "nbformat_minor": 5
}
