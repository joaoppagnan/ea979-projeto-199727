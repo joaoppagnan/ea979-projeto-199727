{
 "cells": [
  {
   "cell_type": "markdown",
   "id": "40c34a54",
   "metadata": {},
   "source": [
    "# StyleGAN Demonstration"
   ]
  },
  {
   "cell_type": "markdown",
   "id": "692667f5",
   "metadata": {},
   "source": [
    "## Importing the necessary packages and setting things up"
   ]
  },
  {
   "cell_type": "code",
   "execution_count": 33,
   "id": "72d9d687",
   "metadata": {},
   "outputs": [
    {
     "ename": "ModuleNotFoundError",
     "evalue": "No module named 'matplotlib'",
     "output_type": "error",
     "traceback": [
      "\u001b[0;31m---------------------------------------------------------------------------\u001b[0m",
      "\u001b[0;31mModuleNotFoundError\u001b[0m                       Traceback (most recent call last)",
      "Input \u001b[0;32mIn [33]\u001b[0m, in \u001b[0;36m<module>\u001b[0;34m\u001b[0m\n\u001b[1;32m      4\u001b[0m \u001b[38;5;28;01mimport\u001b[39;00m \u001b[38;5;21;01mtorch\u001b[39;00m\n\u001b[1;32m      5\u001b[0m \u001b[38;5;28;01mimport\u001b[39;00m \u001b[38;5;21;01mtorch\u001b[39;00m\u001b[38;5;21;01m.\u001b[39;00m\u001b[38;5;21;01mnn\u001b[39;00m \u001b[38;5;28;01mas\u001b[39;00m \u001b[38;5;21;01mnn\u001b[39;00m\n\u001b[0;32m----> 6\u001b[0m \u001b[38;5;28;01mimport\u001b[39;00m \u001b[38;5;21;01mmatplotlib\u001b[39;00m\u001b[38;5;21;01m.\u001b[39;00m\u001b[38;5;21;01mpyplot\u001b[39;00m \u001b[38;5;28;01mas\u001b[39;00m \u001b[38;5;21;01mplt\u001b[39;00m\n\u001b[1;32m      7\u001b[0m \u001b[38;5;28;01mimport\u001b[39;00m \u001b[38;5;21;01mtorchvision\u001b[39;00m\n",
      "\u001b[0;31mModuleNotFoundError\u001b[0m: No module named 'matplotlib'"
     ]
    }
   ],
   "source": [
    "import numpy as np\n",
    "import os,sys\n",
    "from collections import OrderedDict\n",
    "import torch\n",
    "import torch.nn as nn\n",
    "import matplotlib.pyplot as plt\n",
    "import torchvision"
   ]
  },
  {
   "cell_type": "code",
   "execution_count": 23,
   "id": "38921c83",
   "metadata": {},
   "outputs": [],
   "source": [
    "REPO_ROOT_DIR = '../'\n",
    "sys.path.append(os.path.dirname(REPO_ROOT_DIR))\n",
    "from src.generator.generator_mapping import GeneratorMapping\n",
    "from src.generator.generator_synthesis import GeneratorSynthesis"
   ]
  },
  {
   "cell_type": "markdown",
   "id": "a9089025",
   "metadata": {},
   "source": [
    "### Setting up Pytorch to use the GPU"
   ]
  },
  {
   "cell_type": "code",
   "execution_count": 24,
   "id": "59013a7e",
   "metadata": {},
   "outputs": [],
   "source": [
    "device = 'cuda:0' if torch.cuda.is_available() else 'cpu'"
   ]
  },
  {
   "cell_type": "markdown",
   "id": "8b5bcba8",
   "metadata": {},
   "source": [
    "## Defining the model"
   ]
  },
  {
   "cell_type": "code",
   "execution_count": 26,
   "id": "c7f29be8",
   "metadata": {},
   "outputs": [],
   "source": [
    "stylegan = nn.Sequential(OrderedDict([\n",
    "    ('g_mapping', GeneratorMapping()),\n",
    "    ('g_synthesis', GeneratorSynthesis())    \n",
    "]))"
   ]
  },
  {
   "cell_type": "markdown",
   "id": "ea79d26a",
   "metadata": {},
   "source": [
    "### Loading the pretrained model"
   ]
  },
  {
   "cell_type": "code",
   "execution_count": 29,
   "id": "42454f79",
   "metadata": {},
   "outputs": [],
   "source": [
    "model_filename = 'karras2019stylegan-ffhq-1024x1024.for_g_all.pt'\n",
    "model_path = os.path.join(REPO_ROOT_DIR, 'models', model_filename)"
   ]
  },
  {
   "cell_type": "code",
   "execution_count": 31,
   "id": "6321731a",
   "metadata": {},
   "outputs": [
    {
     "data": {
      "text/plain": [
       "<All keys matched successfully>"
      ]
     },
     "execution_count": 31,
     "metadata": {},
     "output_type": "execute_result"
    }
   ],
   "source": [
    "stylegan.load_state_dict(torch.load(model_path))"
   ]
  },
  {
   "cell_type": "markdown",
   "id": "3f14f02c",
   "metadata": {},
   "source": [
    "## Input definition"
   ]
  },
  {
   "cell_type": "code",
   "execution_count": 32,
   "id": "20a9f588",
   "metadata": {},
   "outputs": [],
   "source": [
    "n_rows = 3\n",
    "n_cols = 3\n",
    "n_samples = n_rows*n_cols"
   ]
  },
  {
   "cell_type": "markdown",
   "id": "24b8ee90",
   "metadata": {},
   "source": [
    "### Latent space"
   ]
  },
  {
   "cell_type": "code",
   "execution_count": 35,
   "id": "5af4b4bf",
   "metadata": {},
   "outputs": [],
   "source": [
    "latent_space = torch.randn(n_samples, 512, device=device)"
   ]
  },
  {
   "cell_type": "code",
   "execution_count": null,
   "id": "3acd899d",
   "metadata": {},
   "outputs": [],
   "source": []
  }
 ],
 "metadata": {
  "kernelspec": {
   "display_name": "Python 3",
   "language": "python",
   "name": "python3"
  },
  "language_info": {
   "codemirror_mode": {
    "name": "ipython",
    "version": 3
   },
   "file_extension": ".py",
   "mimetype": "text/x-python",
   "name": "python",
   "nbconvert_exporter": "python",
   "pygments_lexer": "ipython3",
   "version": "3.9.12"
  }
 },
 "nbformat": 4,
 "nbformat_minor": 5
}
